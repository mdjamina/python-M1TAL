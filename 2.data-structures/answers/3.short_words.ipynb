{
  "nbformat": 4,
  "nbformat_minor": 0,
  "metadata": {
    "kernelspec": {
      "display_name": "Python 3",
      "language": "python",
      "name": "python3"
    },
    "language_info": {
      "codemirror_mode": {
        "name": "ipython",
        "version": 3
      },
      "file_extension": ".py",
      "mimetype": "text/x-python",
      "name": "python",
      "nbconvert_exporter": "python",
      "pygments_lexer": "ipython3",
      "version": "3.8.0"
    },
    "colab": {
      "name": "3.short_words.ipynb",
      "provenance": [],
      "include_colab_link": true
    }
  },
  "cells": [
    {
      "cell_type": "markdown",
      "metadata": {
        "id": "view-in-github",
        "colab_type": "text"
      },
      "source": [
        "<a href=\"https://colab.research.google.com/github/mdjamina/python-M1TAL/blob/myB2122/2.data-structures/answers/3.short_words.ipynb\" target=\"_parent\"><img src=\"https://colab.research.google.com/assets/colab-badge.svg\" alt=\"Open In Colab\"/></a>"
      ]
    },
    {
      "cell_type": "code",
      "metadata": {
        "id": "-EhUVszI4Dii"
      },
      "source": [
        "# A list of lists that intend to store\n",
        "# both the identifiers and the textual contents.\n",
        "texts = [\n",
        "    ['../data/salammbo-en.txt'],\n",
        "    ['../data/salammbo-fr.txt']\n",
        "]\n",
        "\n",
        "# For each text:\n",
        "for idx, text in enumerate(texts):\n",
        "\n",
        "    # open the file with the identifier\n",
        "    with open(text[0]) as file:\n",
        "\n",
        "        # read the content\n",
        "        content = file.read()\n",
        "\n",
        "        # put it right after the identifier\n",
        "        texts[idx].append(content)\n",
        "\n",
        "    # and finally convert it to a tuple\n",
        "    texts[idx] = tuple(texts[idx])"
      ],
      "execution_count": null,
      "outputs": []
    },
    {
      "cell_type": "code",
      "metadata": {
        "id": "AGxhmk2H4Din"
      },
      "source": [
        "words_en = texts[0][1].split()\n",
        "words_fr = texts[1][1].split()"
      ],
      "execution_count": null,
      "outputs": []
    },
    {
      "cell_type": "code",
      "metadata": {
        "id": "5w06tkLC4Dio"
      },
      "source": [
        "short_words_en = filter(lambda word:len(word) == 3, words_en)\n",
        "short_words_fr = filter(lambda word:len(word) == 3, words_fr)"
      ],
      "execution_count": null,
      "outputs": []
    },
    {
      "cell_type": "code",
      "metadata": {
        "id": "gCPFqIHd4Dip"
      },
      "source": [
        "nb_short_words_en = len(list(short_words_en))\n",
        "nb_short_words_fr = len(list(short_words_fr))"
      ],
      "execution_count": null,
      "outputs": []
    },
    {
      "cell_type": "code",
      "metadata": {
        "id": "9cxaNHD44Dip"
      },
      "source": [
        "print(f'La version anglaise de Salammbô contient {nb_short_words_en} mots de trois lettres, soit {round((nb_short_words_en / len(words_en)) * 100, 2)} % de l’ensemble du texte.')\n",
        "print(f'La version française de Salammbô contient {nb_short_words_fr} mots de trois lettres, soit {round((nb_short_words_fr / len(words_fr)) * 100, 2)} % de l’ensemble du texte.')"
      ],
      "execution_count": null,
      "outputs": []
    }
  ]
}
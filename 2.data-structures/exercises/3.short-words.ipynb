{
  "nbformat": 4,
  "nbformat_minor": 0,
  "metadata": {
    "kernelspec": {
      "display_name": "Python 3",
      "language": "python",
      "name": "python3"
    },
    "language_info": {
      "codemirror_mode": {
        "name": "ipython",
        "version": 3
      },
      "file_extension": ".py",
      "mimetype": "text/x-python",
      "name": "python",
      "nbconvert_exporter": "python",
      "pygments_lexer": "ipython3",
      "version": "3.8.0"
    },
    "colab": {
      "name": "3.short-words.ipynb",
      "provenance": [],
      "include_colab_link": true
    }
  },
  "cells": [
    {
      "cell_type": "markdown",
      "metadata": {
        "id": "view-in-github",
        "colab_type": "text"
      },
      "source": [
        "<a href=\"https://colab.research.google.com/github/mdjamina/python-M1TAL/blob/myB2122/2.data-structures/exercises/3.short-words.ipynb\" target=\"_parent\"><img src=\"https://colab.research.google.com/assets/colab-badge.svg\" alt=\"Open In Colab\"/></a>"
      ]
    },
    {
      "cell_type": "markdown",
      "metadata": {
        "id": "gV1joSxw1igX"
      },
      "source": [
        "# Les mots les plus courts…\n",
        "\n",
        "Vous disposez de deux versions du *Salammbô* (1862) de Gustave Flaubert : l’une en français et l’autre en anglais. L’objectif de cet exercice est de comparer le nombre de mots composés de trois lettres dans les deux langues.\n",
        "\n",
        "**Attention !** Nous voulons tous les mots de trois lettres et non pas tous les mots uniques de trois lettres. Ce décompte permettra de comparer non seulement les valeurs absolues mais aussi les valeurs relatives.\n",
        "\n",
        "Pour y parvenir, vous aurez besoin de :\n",
        "1. découper les deux textes en une liste de mots ;\n",
        "2. de compter le nombre de lettres de chaque mot ;\n",
        "3. de filtrer la liste finale pour ne ressortir que les mots de trois lettres.\n",
        "\n",
        "**Remarque :** de nombreux écueils s’opposeront à vous :\n",
        "- *C’était* vaut-il pour un ou deux mots ?\n",
        "- *Hamilcar.* compte-t-il huit ou neuf caractères ?\n",
        "\n",
        "À ce stade, ne vous souciez pas de ces questions et procédez le plus simplement possible.\n",
        "\n",
        "Le code de départ ci-dessous permet de charger les fichiers qui se trouvent dans le répertoire `data` :"
      ]
    },
    {
      "cell_type": "code",
      "metadata": {
        "id": "P_xJ2yzN1igc"
      },
      "source": [
        "# A list of lists that intend to store\n",
        "# both the identifiers and the textual contents.\n",
        "texts = [\n",
        "    ['/tmp/data/salammbo-en.txt'],\n",
        "    ['/tmp/data/salammbo-fr.txt']\n",
        "]\n",
        "\n",
        "# For each text:\n",
        "for idx, text in enumerate(texts):\n",
        "\n",
        "    # open the file with the identifier\n",
        "    with open(text[0]) as file:\n",
        "\n",
        "        # read the content\n",
        "        content = file.read()\n",
        "\n",
        "        # put it right after the identifier\n",
        "        texts[idx].append(content)\n",
        "\n",
        "    # and finally convert it to a tuple\n",
        "    texts[idx] = tuple(texts[idx])\n",
        "\n",
        "\n"
      ],
      "execution_count": null,
      "outputs": []
    },
    {
      "cell_type": "markdown",
      "metadata": {
        "id": "szhqyzcn1ige"
      },
      "source": [
        "Pour accéder au texte, il suffit maintenant d’interroger l’objet `texts` :"
      ]
    },
    {
      "cell_type": "code",
      "metadata": {
        "colab": {
          "base_uri": "https://localhost:8080/"
        },
        "id": "j4_57zTs1igf",
        "outputId": "482bdeea-94c8-4b4d-e51b-80b64fb732a9"
      },
      "source": [
        "# The first tuple contains the en version\n",
        "salammbo_en = texts[0]\n",
        "\n",
        "# The textual content is the second element of the tuple\n",
        "text_en = salammbo_en[1]\n",
        "\n",
        "# A slice of the first 500 characters\n",
        "beginning = text_en[:501]\n",
        "\n",
        "# The instruction could have been shorter :\n",
        "# print(f'{texts[0][1][:501]}…')\n",
        "print(f'{beginning}…')"
      ],
      "execution_count": 3,
      "outputs": [
        {
          "output_type": "stream",
          "name": "stdout",
          "text": [
            "CHAPTER I\n",
            "\n",
            "THE FEAST\n",
            "\n",
            "It was at Megara, a suburb of Carthage, in the gardens of Hamilcar. The\n",
            "soldiers whom he had commanded in Sicily were having a great feast to\n",
            "celebrate the anniversary of the battle of Eryx, and as the master was\n",
            "away, and they were numerous, they ate and drank with perfect freedom.\n",
            "\n",
            "The captains, who wore bronze cothurni, had placed themselves in the\n",
            "central path, beneath a gold-fringed purple awning, which reached from\n",
            "the wall of the stables to the first terrace of the pa…\n"
          ]
        }
      ]
    }
  ]
}
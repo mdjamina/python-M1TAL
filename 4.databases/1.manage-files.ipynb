{
  "nbformat": 4,
  "nbformat_minor": 0,
  "metadata": {
    "celltoolbar": "Diaporama",
    "kernelspec": {
      "display_name": "Python 3",
      "language": "python",
      "name": "python3"
    },
    "language_info": {
      "codemirror_mode": {
        "name": "ipython",
        "version": 3
      },
      "file_extension": ".py",
      "mimetype": "text/x-python",
      "name": "python",
      "nbconvert_exporter": "python",
      "pygments_lexer": "ipython3",
      "version": "3.8.0"
    },
    "colab": {
      "name": "1.manage-files.ipynb",
      "provenance": [],
      "include_colab_link": true
    }
  },
  "cells": [
    {
      "cell_type": "markdown",
      "metadata": {
        "id": "view-in-github",
        "colab_type": "text"
      },
      "source": [
        "<a href=\"https://colab.research.google.com/github/mdjamina/python-M1TAL/blob/myB2122/4.databases/1.manage-files.ipynb\" target=\"_parent\"><img src=\"https://colab.research.google.com/assets/colab-badge.svg\" alt=\"Open In Colab\"/></a>"
      ]
    },
    {
      "cell_type": "markdown",
      "metadata": {
        "id": "fR9jVO-o4jpf"
      },
      "source": [
        "# Manipuler des fichiers"
      ]
    },
    {
      "cell_type": "markdown",
      "metadata": {
        "id": "ekdCG2T84jpk"
      },
      "source": [
        "## Ouvrir un fichier\n",
        "\n",
        "Comme pour un livre, un fichier doit s’ouvrir et se fermer. Les deux opérations se réalisent en une seule instruction, grâce au mot-clé `with`, accompagné de la fonction `open()`, qui indique au langage qu’il doit travailler avec un objet, lui laissant le soin de fermer le flux vers le fichier à la fin du bloc d’instructions.\n",
        "\n",
        "La fonction `open()` accepte deux arguments. Le premier est le chemin vers le fichier à ouvrir. S’il se trouve dans le répertoire courant, son nom seul est requis. Le second argument est le mode d’ouverture."
      ]
    },
    {
      "cell_type": "markdown",
      "metadata": {
        "id": "he9P4EKl4jpl"
      },
      "source": [
        "Il existe trois modes d'ouverture de fichier :\n",
        "- **Mode lecture seule :** aucune écriture autorisée dans le fichier ;\n",
        "- **Mode écriture :** écriture à partir du début du fichier, ce qui signifie qu’un fichier du même nom pré-existant sera systématiquement remplacé ;\n",
        "- **Mode ajout :** écriture à la fin du fichier."
      ]
    },
    {
      "cell_type": "code",
      "metadata": {
        "id": "nq_bK0kK4jpm"
      },
      "source": [
        "with open(\"./data/salammbo.txt\", \"r\") as src:\n",
        "    print(src)"
      ],
      "execution_count": null,
      "outputs": []
    },
    {
      "cell_type": "markdown",
      "metadata": {
        "id": "HjD6tb5A4jpo"
      },
      "source": [
        "Ici, le mode d’ouverture est *read* `r`. On aurait pu en faire l’économie, car le mode en lecture seule est le mode par défaut. Les autres modes possibles sont `w` pour *write* et `a` pour *append*."
      ]
    },
    {
      "cell_type": "markdown",
      "metadata": {
        "id": "14lIIUTV4jpo"
      },
      "source": [
        "## Lire un fichier\n",
        "\n",
        "Il existe plusieurs méthodes pour afficher les informations contenues dans un fichier. Avant d’opter pour l’une ou l’autre, il convient de se poser la question de la finalité du programme :\n",
        "- La méthode `read()` pour afficher les données au format brut, sous forme de chaîne de caractères.\n",
        "- La méthode `readline()` pour afficher la ligne courante au format brut, augmentée d’un retour à la ligne, sous forme de chaîne de caractères.\n",
        "- La méthode `readlines()` pour afficher les données au format brut, sous forme de liste."
      ]
    },
    {
      "cell_type": "markdown",
      "metadata": {
        "id": "oKuKPCe44jpp"
      },
      "source": [
        "### Méthode `read()`\n",
        "\n",
        "Elle prend un argument numérique facultatif, qui représente le nombre de caractères que vous souhaitez afficher à partir de la position courante du curseur. Par défaut, elle renvoie la totalité des caractères du fichier."
      ]
    },
    {
      "cell_type": "code",
      "metadata": {
        "id": "NvRyrNmF4jpq"
      },
      "source": [
        "# 'src' is a file descriptor\n",
        "with open(\"./data/salammbo.txt\", \"r\") as src:\n",
        "    # Reads the first 31 characters\n",
        "    print(src.read(31))\n",
        "    # Reads the next 69 characters\n",
        "    print(src.read(69))"
      ],
      "execution_count": null,
      "outputs": []
    },
    {
      "cell_type": "markdown",
      "metadata": {
        "id": "ar8AZaJw4jpr"
      },
      "source": [
        "### Méthode `readline()`\n",
        "\n",
        "Elle affiche la ligne courante du fichier, dans la limite du nombre de caractères défini en paramètre par un argument numérique. Chaque appel à la méthode génère une nouvelle ligne `\\n`."
      ]
    },
    {
      "cell_type": "code",
      "metadata": {
        "id": "UOfe86PS4jps"
      },
      "source": [
        "with open(\"./data/salammbo.txt\", \"r\") as src:\n",
        "    # The first and the second lines\n",
        "    print(src.readline())\n",
        "    print(src.readline())\n",
        "    # The first 40 characters of the third line\n",
        "    print(src.readline(40))\n",
        "    # The remaining characters of the third line\n",
        "    print(src.readline())"
      ],
      "execution_count": null,
      "outputs": []
    },
    {
      "cell_type": "markdown",
      "metadata": {
        "id": "FdpPxjrK4jpt"
      },
      "source": [
        "Grâce à cette méthode, on peut concevoir un algorithme très simple pour parcourir un fichier ligne par ligne :\n",
        "```txt\n",
        "Ouverture d'une ressource :\n",
        "    Tant qu'il reste des lignes à afficher :\n",
        "        Afficher la ligne courante\n",
        "```"
      ]
    },
    {
      "cell_type": "code",
      "metadata": {
        "id": "0lUHq2uD4jpu"
      },
      "source": [
        "with open(\"./data/salammbo.txt\") as src:\n",
        "    while src.readline():\n",
        "        print(src.readline())"
      ],
      "execution_count": null,
      "outputs": []
    },
    {
      "cell_type": "markdown",
      "metadata": {
        "id": "HDkdY7uQ4jpv"
      },
      "source": [
        "### Méthode `readlines()`\n",
        "\n",
        "Plutôt que de retourner une chaîne de caractères, cette méthode retourne une liste des lignes du fichier. Elle opère la séparation aussitôt qu’elle rencontre un caractère de nouvelle ligne `\\n`."
      ]
    },
    {
      "cell_type": "code",
      "metadata": {
        "id": "xLxonNjb4jpw"
      },
      "source": [
        "with open(\"./data/salammbo.txt\") as src:\n",
        "    print(src.readlines()[:4])"
      ],
      "execution_count": null,
      "outputs": []
    },
    {
      "cell_type": "markdown",
      "metadata": {
        "id": "-c3W4pml4jpw"
      },
      "source": [
        "Comme le caractère `\\n` est préservé à la fin de chaque ligne, il faut utiliser la méthode `strip()` pour le retirer :"
      ]
    },
    {
      "cell_type": "code",
      "metadata": {
        "id": "G4RQil474jpx"
      },
      "source": [
        "with open(\"./data/salammbo.txt\") as src:\n",
        "    print(src.readlines()[2].strip())"
      ],
      "execution_count": null,
      "outputs": []
    },
    {
      "cell_type": "markdown",
      "metadata": {
        "id": "UWic9u2c4jpx"
      },
      "source": [
        "## Écrire dans un fichier\n",
        "\n",
        "Le pré-requis pour écrire dans un fichier est d’abord de l’ouvrir en mode écriture (`w` ou `a`). S’il n’existe pas déjà de fichier avec le même nom, les deux modes en génèrent un et insèrent le contenu à l’intérieur. Si au contraire un fichier du même nom est trouvé, le mode `w` remplace complètement le contenu quand le mode `a` ajoute le contenu à écrire au contenu existant.\n",
        "\n",
        "La méthode `write` sur le descripteur de fichier se charge d’écrire le contenu, forcément de type `String`."
      ]
    },
    {
      "cell_type": "markdown",
      "metadata": {
        "id": "LtxJBnJn4jpx"
      },
      "source": [
        "Créer un nouveau fichier :"
      ]
    },
    {
      "cell_type": "code",
      "metadata": {
        "id": "GlTmlIMv4jpx"
      },
      "source": [
        "with open(\"./data/the-dark-hole.txt\", \"w\") as file:\n",
        "    file.write(\"The Dark Hole\")"
      ],
      "execution_count": null,
      "outputs": []
    },
    {
      "cell_type": "markdown",
      "metadata": {
        "id": "-dxIANdv4jpy"
      },
      "source": [
        "Remplacer le contenu du fichier :"
      ]
    },
    {
      "cell_type": "code",
      "metadata": {
        "id": "93idDF4M4jpy"
      },
      "source": [
        "with open(\"./data/the-dark-hole.txt\", \"w\") as file:\n",
        "    file.write(\"No escape from a Dark Hole\")"
      ],
      "execution_count": null,
      "outputs": []
    },
    {
      "cell_type": "markdown",
      "metadata": {
        "id": "87rKgU854jpy"
      },
      "source": [
        "Ajouter du contenu à un fichier existant :"
      ]
    },
    {
      "cell_type": "code",
      "metadata": {
        "id": "4yWkz6kP4jpz"
      },
      "source": [
        "with open(\"./data/the-dark-hole.txt\", \"a\") as file:\n",
        "    file.write(\"\\n\")\n",
        "    file.write(\"The whole universe will perish inside a dark hole.\")"
      ],
      "execution_count": null,
      "outputs": []
    },
    {
      "cell_type": "markdown",
      "metadata": {
        "id": "KAbunruB4jpz"
      },
      "source": [
        "## Techniques courantes"
      ]
    },
    {
      "cell_type": "markdown",
      "metadata": {
        "id": "DcfI-zma4jpz"
      },
      "source": [
        "### L’itérateur de fichier\n",
        "\n",
        "Si l’objectif est d’itérer sur un fichier, il est inutile de récupérer au préalable la liste des lignes avec par exemple la méthode `readlines()`. L’objet qui pointe vers le fichier dispose en effet de son propre itérateur :"
      ]
    },
    {
      "cell_type": "code",
      "metadata": {
        "id": "K507ZX3P4jpz"
      },
      "source": [
        "with open(\"./data/salammbo.txt\") as src:\n",
        "    for line in src:\n",
        "        print(line)"
      ],
      "execution_count": null,
      "outputs": []
    },
    {
      "cell_type": "markdown",
      "metadata": {
        "id": "jC95Cbwu4jp0"
      },
      "source": [
        "### Lecture séquentielle\n",
        "\n",
        "Avec un fichier aussi léger (en poids) que le *Salammbô* de Flaubert, la lecture en un seul bloc ne présente aucun enjeu. En revanche, si l’on effectue un traitement sur de vastes corpus de données, l’accès aux ressources peut à tout moment souffrir des aléas de l’informatique :\n",
        "- une coupure électrique ;\n",
        "- la diminution des ressources allouées par le système aux scripts trop gourmands ;\n",
        "- un plantage du serveur ;\n",
        "- un arrêt brutal du script par un administrateur ;\n",
        "- …"
      ]
    },
    {
      "cell_type": "markdown",
      "metadata": {
        "id": "4aISxDAK4jp0"
      },
      "source": [
        "Bref, il peut arriver tellement de choses à tout moment que l’on va préférer lire un fichier de manière séquentielle plutôt que d’un seul tenant. C’est la raison d’être des itérateurs mais, si l’on souhaite plutôt utiliser la méthode `read()` pour parcourir un fichier, on va décider du nombre de caractères à traiter à la fois :"
      ]
    },
    {
      "cell_type": "code",
      "metadata": {
        "id": "tCn-jkh54jp0"
      },
      "source": [
        "with open(\"./data/salammbo.txt\") as src:\n",
        "    while True:\n",
        "        txt = src.read(50)\n",
        "        if not txt: break\n",
        "        else: print(txt)"
      ],
      "execution_count": null,
      "outputs": []
    },
    {
      "cell_type": "markdown",
      "metadata": {
        "id": "_Ry8LKw64jp0"
      },
      "source": [
        "### Créer un fichier plat\n",
        "\n",
        "Les fichiers plats (ou bases de données orientées texte) sont des fichiers qui entreposent des données sous un format uniforme sans structure particulière pour indiquer leur modèle relationnel. Chaque enregistrement occupe une ligne du fichier et au sein d’un même enregistrement, les données sont séparées les unes des autres par un délimiteur.\n",
        "\n",
        "```txt\n",
        "Le;DET;le\n",
        "petit;ADJ;petit\n",
        "chat;NC;chat\n",
        "est;V;être\n",
        "mort;ADJ;mort\n",
        ".;PONCT;.\n",
        "```"
      ]
    },
    {
      "cell_type": "markdown",
      "metadata": {
        "id": "zak8FEna4jp0"
      },
      "source": [
        "Sans surprise, le format CSV (*Comma-Separated Values*) est un exemple de fichier plat. Formellement, rien ne le distingue d’un fichier TXT, et la fonction native `open()` le traite de la même manière, en lecture comme en écriture :"
      ]
    },
    {
      "cell_type": "code",
      "metadata": {
        "id": "rHEgTjIW4jp1"
      },
      "source": [
        "with open('./data/covid.csv') as src:\n",
        "    for line in src.readlines()[:5]:\n",
        "        print(line)"
      ],
      "execution_count": null,
      "outputs": []
    }
  ]
}